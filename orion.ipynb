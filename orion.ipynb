{
    "nbformat": 4,
    "nbformat_minor": 0,
    "metadata": {
        "colab": {
            "name": "orion.ipynb",
            "provenance": [],
            "collapsed_sections": []
        },
        "kernelspec": {
            "display_name": "Python 3",
            "name": "python3"
        },
        "accelerator": "GPU"
    },
    "cells": [
        {
            "cell_type": "code",
            "metadata": {
                "id": "ayBOQhKAEYNg"
            },
            "source": [
                "n = 144\n",
                "# DataLoader-ს წინასწარ უნდა ვუთხრათ batch-ების ზომა რომელსაც სწავლებისას ვიხმართ\n",
                "# რადგან ჩვენ გადასწავლებას ვახდენთ, პატარა რიცხვიც კმარა (როგორიცაა 16)\n",
                "batch_size = 16\n",
                "# ვთ. გვაქვს 5 ეპოქა. თითო ეპოქაში დასასწავლ მონაცემებიდან ყველას\n",
                "# ერთხელ მაინც ექნება საშუალება რომ გავლენა იქონიოს ქსელის პარამეტრების ცვლილებაზე\n",
                "epochs = 5\n",
                "# n-ის რამდენი პროცენტი არის ვალიდაციისთვის\n",
                "val_size=0.1\n",
                "label_number = 2\n",
                "\n",
                "\n",
                "transformer_name = 'bert-base-multilingual-cased'"
            ],
            "execution_count": 1,
            "outputs": []
        },
        {
            "cell_type": "code",
            "metadata": {
                "colab": {
                    "base_uri": "https://localhost:8080/"
                },
                "id": "eaqBu9g2U82B",
                "outputId": "fb2ced9b-f5d3-49a1-c354-58e08379b217"
            },
            "source": [
                "### მოგვაქვს მონაცემები სერვერიდან\n",
                "\n",
                "import urllib.request, json, csv\n",
                "import pandas as pd\n",
                "\n",
                "\n",
                "with urllib.request.urlopen(\"https://neural-network123.herokuapp.com/get_items\") as url:\n",
                "    obj = json.loads(url.read().decode())\n",
                "\n",
                "# ამივიღოთ ობიექტიდან ლისტი\n",
                "sentence_list = obj[\"collection\"]\n",
                "\n",
                "# წავშალოთ თითო dictionary-ს _id ატრიბუტი\n",
                "for i in range(len(sentence_list)):\n",
                "  sentence_list[i].pop(\"_id\",None);\n",
                "\n",
                "\n",
                "print(sentence_list)\n",
                "\n",
                "# ცარიელების მოშორება\n",
                "temp = []\n",
                "for i in range(len(sentence_list)):\n",
                "  if sentence_list[i][\"text\"] != \"\":\n",
                "    temp.append(sentence_list[i])\n",
                "\n",
                "sentence_list = temp\n",
                "\n",
                "\n",
                "# დუპლიკატების გაფილტრვა\n",
                "temp = []\n",
                "seen_sentences = set()\n",
                "for i in range(len(sentence_list)):\n",
                "  if sentence_list[i][\"text\"] not in seen_sentences:\n",
                "    temp.append(sentence_list[i])\n",
                "  seen_sentences.add(sentence_list[i][\"text\"])\n",
                "\n",
                "sentence_list = temp\n",
                "\n",
                "# ინგლისური წინადადებების გაწმინდვა\n",
                "temp = []\n",
                "for i in range(len(sentence_list)):\n",
                "  if sentence_list[i][\"text\"].isascii():\n",
                "    continue\n",
                "  else:\n",
                "    temp.append(sentence_list[i])\n",
                "\n",
                "sentence_list = temp\n",
                "\n",
                "\n",
                "\n",
                "field_names = [\"text\",\"label\"]\n",
                "\n",
                "with open('labeled_sentences.csv', 'w') as csvfile:\n",
                "    writer = csv.DictWriter(csvfile, fieldnames=field_names)\n",
                "    writer.writeheader()\n",
                "    writer.writerows(sentence_list)\n",
                "\n",
                "df = pd.read_csv(\"./labeled_sentences.csv\")\n",
                "\n",
                "# არასწორი სვეტის სახელი გვაქვს ბაზაში, გადავარქვათ\n",
                "df = df.rename(columns={\"text\":\"sentence\"})\n",
                "\n",
                "# df = pd.DataFrame(sentence_list,columns=field_names)\n",
                " \n",
                "\n",
                "\n"
            ],
            "execution_count": 2,
            "outputs": []
        },
        {
            "cell_type": "code",
            "metadata": {
                "colab": {
                    "base_uri": "https://localhost:8080/"
                },
                "id": "InoTocScksZA",
                "outputId": "c6f209a3-6fbe-46c4-86e0-82fdbf50dada"
            },
            "source": [
                "import tensorflow as tf\n",
                "# მივიღოთ GPU-ს სახელი\n",
                "device_name = tf.test.gpu_device_name()\n",
                "# დავაფორმატოთ output-ი\n",
                "if device_name == '/device:GPU:0':\n",
                "    print('Found GPU at: {}'.format(device_name))\n",
                "else:\n",
                "    raise SystemError('GPU device not found')"
            ],
            "execution_count": 3,
            "outputs": [
                {
                    "output_type": "stream",
                    "text": [
                        "Found GPU at: /device:GPU:0\n"
                    ],
                    "name": "stdout"
                }
            ]
        },
        {
            "cell_type": "code",
            "metadata": {
                "id": "BWg3JbYNlSu6",
                "colab": {
                    "base_uri": "https://localhost:8080/"
                },
                "outputId": "83b1c994-0dd4-48ea-ff0c-77baeb4b5dd7"
            },
            "source": [
                "import torch\n",
                "# თუ GPU ნაპოვნია\n",
                "if torch.cuda.is_available():    \n",
                "    # ვუბრძანოთ pytorch-ს რომ გამოიყენოს იგი    \n",
                "    device = torch.device(\"cuda\")\n",
                "    print('There are %d GPU(s) available.' % torch.cuda.device_count())\n",
                "    print('We will use the GPU:', torch.cuda.get_device_name(0))\n",
                "else:\n",
                "    print('No GPU available, using the CPU instead.')\n",
                "    device = torch.device(\"cpu\")"
            ],
            "execution_count": 4,
            "outputs": [
                {
                    "output_type": "stream",
                    "text": [
                        "There are 1 GPU(s) available.\n",
                        "We will use the GPU: Tesla T4\n"
                    ],
                    "name": "stdout"
                }
            ]
        },
        {
            "cell_type": "code",
            "metadata": {
                "id": "PRFF4OnVmxks",
                "colab": {
                    "base_uri": "https://localhost:8080/"
                },
                "outputId": "f9698e71-ba87-41d9-e8bf-aae950b0d6c2"
            },
            "source": [
                "!pip install transformers==3.0.0"
            ],
            "execution_count": 5,
            "outputs": [
                {
                    "output_type": "stream",
                    "text": [
                        "Requirement already satisfied: transformers==3.0.0 in /usr/local/lib/python3.7/dist-packages (3.0.0)\n",
                        "Requirement already satisfied: sentencepiece in /usr/local/lib/python3.7/dist-packages (from transformers==3.0.0) (0.1.96)\n",
                        "Requirement already satisfied: filelock in /usr/local/lib/python3.7/dist-packages (from transformers==3.0.0) (3.0.12)\n",
                        "Requirement already satisfied: requests in /usr/local/lib/python3.7/dist-packages (from transformers==3.0.0) (2.23.0)\n",
                        "Requirement already satisfied: tqdm>=4.27 in /usr/local/lib/python3.7/dist-packages (from transformers==3.0.0) (4.41.1)\n",
                        "Requirement already satisfied: numpy in /usr/local/lib/python3.7/dist-packages (from transformers==3.0.0) (1.19.5)\n",
                        "Requirement already satisfied: packaging in /usr/local/lib/python3.7/dist-packages (from transformers==3.0.0) (20.9)\n",
                        "Requirement already satisfied: sacremoses in /usr/local/lib/python3.7/dist-packages (from transformers==3.0.0) (0.0.45)\n",
                        "Requirement already satisfied: tokenizers==0.8.0-rc4 in /usr/local/lib/python3.7/dist-packages (from transformers==3.0.0) (0.8.0rc4)\n",
                        "Requirement already satisfied: regex!=2019.12.17 in /usr/local/lib/python3.7/dist-packages (from transformers==3.0.0) (2019.12.20)\n",
                        "Requirement already satisfied: idna<3,>=2.5 in /usr/local/lib/python3.7/dist-packages (from requests->transformers==3.0.0) (2.10)\n",
                        "Requirement already satisfied: chardet<4,>=3.0.2 in /usr/local/lib/python3.7/dist-packages (from requests->transformers==3.0.0) (3.0.4)\n",
                        "Requirement already satisfied: certifi>=2017.4.17 in /usr/local/lib/python3.7/dist-packages (from requests->transformers==3.0.0) (2021.5.30)\n",
                        "Requirement already satisfied: urllib3!=1.25.0,!=1.25.1,<1.26,>=1.21.1 in /usr/local/lib/python3.7/dist-packages (from requests->transformers==3.0.0) (1.24.3)\n",
                        "Requirement already satisfied: pyparsing>=2.0.2 in /usr/local/lib/python3.7/dist-packages (from packaging->transformers==3.0.0) (2.4.7)\n",
                        "Requirement already satisfied: joblib in /usr/local/lib/python3.7/dist-packages (from sacremoses->transformers==3.0.0) (1.0.1)\n",
                        "Requirement already satisfied: click in /usr/local/lib/python3.7/dist-packages (from sacremoses->transformers==3.0.0) (7.1.2)\n",
                        "Requirement already satisfied: six in /usr/local/lib/python3.7/dist-packages (from sacremoses->transformers==3.0.0) (1.15.0)\n"
                    ],
                    "name": "stdout"
                }
            ]
        },
        {
            "cell_type": "code",
            "metadata": {
                "id": "h31HobV6slVM",
                "colab": {
                    "base_uri": "https://localhost:8080/"
                },
                "outputId": "8d89c0cf-54a4-4340-80f7-19d598ce17d1"
            },
            "source": [
                "!pip install wget\n",
                "import wget\n",
                "import os\n",
                "\n",
                "# ცალ-ცალკე მასივებში ჩავსვათ წინადადებები და მათი კლასები\n",
                "sentences = df.sentence.values\n",
                "labels = df.label.values"
            ],
            "execution_count": 6,
            "outputs": [
                {
                    "output_type": "stream",
                    "text": [
                        "Requirement already satisfied: wget in /usr/local/lib/python3.7/dist-packages (3.2)\n"
                    ],
                    "name": "stdout"
                }
            ]
        },
        {
            "cell_type": "code",
            "metadata": {
                "id": "u6pCO_Xh5Sno",
                "colab": {
                    "base_uri": "https://localhost:8080/"
                },
                "outputId": "87fb4c8b-03d4-4701-a0bd-1f2c3cfd6a8c"
            },
            "source": [
                "from transformers import BertTokenizer\n",
                "# ჩამოვტვირთოთ BERT-ის ტოკენიზატორი.\n",
                "print('Loading BERT tokenizer...')\n",
                "tokenizer = BertTokenizer.from_pretrained(transformer_name)"
            ],
            "execution_count": 7,
            "outputs": [
                {
                    "output_type": "stream",
                    "text": [
                        "Loading BERT tokenizer...\n"
                    ],
                    "name": "stdout"
                }
            ]
        },
        {
            "cell_type": "code",
            "metadata": {
                "id": "644_r6m2-3sR",
                "colab": {
                    "base_uri": "https://localhost:8080/"
                },
                "outputId": "76e132a2-6fc8-4409-81fc-8915cc47f41f"
            },
            "source": [
                "# მოვახდინოთ ყველა წინადადების ტოკენიზაცია და ავსახოთ მათი ტოკენი სიტყვის ID-ში\n",
                "input_ids = []\n",
                "\n",
                "for sent in sentences:\n",
                "    # `encode` ფუნქცია იზამს შემდეგს:\n",
                "    #   (1) მოახდენს წინადადების ტოკენიზაციას\n",
                "    #   (2) დასაწყისში  `[CLS]` ტოკენს ჩასვამს\n",
                "    #   (3) ბოლოში მიადგამს `[SEP]` ტოკენს.\n",
                "    #   (4) ასახავს ტოკენს თავის ID-ში\n",
                "    encoded_sent = tokenizer.encode(\n",
                "                        sent,                      # დასამუშავებელი წინადადება\n",
                "                        add_special_tokens = True, # ჩაამატე '[CLS]' და '[SEP]'\n",
                "                   )\n",
                "    \n",
                "    # დამუშავებული წინადადებები ჩავამატოთ სიაში\n",
                "    input_ids.append(encoded_sent)\n",
                "\n",
                "# დავბეჭდოთ მენულე წინადადება ახლა უკვე როგორც ID-ების სია.\n",
                "print('Original: ', sentences[0])\n",
                "print('Token IDs:', input_ids[0])"
            ],
            "execution_count": 8,
            "outputs": [
                {
                    "output_type": "stream",
                    "text": [
                        "Original:  დღეს ოთხშაბათია? ჩემო მეგობარო\n",
                        "Token IDs: [101, 1567, 73685, 1577, 13900, 76564, 79194, 28848, 28305, 11577, 136, 1589, 17076, 48851, 68662, 73723, 28848, 28068, 102]\n"
                    ],
                    "name": "stdout"
                }
            ]
        },
        {
            "cell_type": "code",
            "metadata": {
                "id": "zMBDRDxpGuSC",
                "colab": {
                    "base_uri": "https://localhost:8080/"
                },
                "outputId": "c51da9b6-0e92-4f3c-8784-c0115fea97cf"
            },
            "source": [
                "# ვიხმაროთ keras-ის დამხმარე ფუნქცია `pad_sequences` რომ ყველა სიას იგივე ზომა მივცეთ\n",
                "from keras.preprocessing.sequence import pad_sequences\n",
                " \n",
                "# დავაწესოთ წინადადების მაქსიმალური სიგრძე (სიტყვაზე 120)\n",
                "MAX_LEN = 120\n",
                " \n",
                "print('\\nPadding/truncating all sentences to %d values...' % MAX_LEN)\n",
                "print('\\nPadding token: \"{:}\", ID: {:}'.format(tokenizer.pad_token, tokenizer.pad_token_id))\n",
                "# [PAD] ტოკენის ID არის 0, ამიტომ შევავსოთ ყველა სია 120 სიგრძემდე 0-ებით\n",
                "# \"post\" ანიშნებს, რომ [PAD] ტოკენები გვინდა ჩავსვათ სიის ბოლოში და არა თავში\n",
                "input_ids = pad_sequences(input_ids, maxlen=MAX_LEN, dtype=\"long\", \n",
                "                          value=0, truncating=\"post\", padding=\"post\")\n",
                "print('\\Done.\\n\\n')\n",
                " \n",
                "print(\"Example: \\n\\n\\n\",input_ids[0])"
            ],
            "execution_count": 9,
            "outputs": [
                {
                    "output_type": "stream",
                    "text": [
                        "\n",
                        "Padding/truncating all sentences to 120 values...\n",
                        "\n",
                        "Padding token: \"[PAD]\", ID: 0\n",
                        "\\Done.\n",
                        "\n",
                        "\n",
                        "Example: \n",
                        "\n",
                        "\n",
                        " [  101  1567 73685  1577 13900 76564 79194 28848 28305 11577   136  1589\n",
                        " 17076 48851 68662 73723 28848 28068   102     0     0     0     0     0\n",
                        "     0     0     0     0     0     0     0     0     0     0     0     0\n",
                        "     0     0     0     0     0     0     0     0     0     0     0     0\n",
                        "     0     0     0     0     0     0     0     0     0     0     0     0\n",
                        "     0     0     0     0     0     0     0     0     0     0     0     0\n",
                        "     0     0     0     0     0     0     0     0     0     0     0     0\n",
                        "     0     0     0     0     0     0     0     0     0     0     0     0\n",
                        "     0     0     0     0     0     0     0     0     0     0     0     0\n",
                        "     0     0     0     0     0     0     0     0     0     0     0     0]\n"
                    ],
                    "name": "stdout"
                }
            ]
        },
        {
            "cell_type": "code",
            "metadata": {
                "id": "gfiK5QdwH8cN"
            },
            "source": [
                "# შევქმნათ სია, რომელშიც გვექნება ყველა წინადადების ყურადღების mask-ები\n",
                "attention_masks = []\n",
                "\n",
                "for sent in input_ids:\n",
                "    \n",
                "    # შევქმნათ ყურადღების mask-ი:\n",
                "    #   თუ ტოკენის ID არის 0, მაშინ [PAD] ტოკენი ყოფილა და mask არის 0\n",
                "    #   თუ ტოკენის ID არის  > 0, მაშინ არაა [PAD] ტოკენი და mask არის 1\n",
                "    att_mask = [int(token_id > 0) for token_id in sent]\n",
                "    \n",
                "    attention_masks.append(att_mask)"
            ],
            "execution_count": 10,
            "outputs": []
        },
        {
            "cell_type": "code",
            "metadata": {
                "id": "3xFuEiNKWz5m"
            },
            "source": [
                "# ვიხმაროთ train_test_split რომ დავყოთ წინადადებები დასასწავლ და გასატესტ ნაწილებად\n",
                "from sklearn.model_selection import train_test_split\n",
                "# ვიხმაროთ 90% სწავლებისთვის და 10% ვალიდაციისთვის მაგალითად\n",
                "train_inputs, validation_inputs, train_labels, validation_labels = train_test_split(input_ids, labels, \n",
                "                                                            random_state=2021, test_size=val_size)\n",
                "# იგივე ვქნათ mask-ებისთვის\n",
                "train_masks, validation_masks, _, _ = train_test_split(attention_masks, labels,\n",
                "                                             random_state=2021, test_size=val_size)"
            ],
            "execution_count": 11,
            "outputs": []
        },
        {
            "cell_type": "code",
            "metadata": {
                "id": "ZzrAisMcXMpP"
            },
            "source": [
                "# ყველაფერი ვაქციოთ pytorch-ის ტენზორებად (სწავლებისთვის საჭიროა)\n",
                "train_inputs = torch.tensor(train_inputs)\n",
                "validation_inputs = torch.tensor(validation_inputs)\n",
                "train_labels = torch.tensor(train_labels)\n",
                "validation_labels = torch.tensor(validation_labels)\n",
                "train_masks = torch.tensor(train_masks)\n",
                "validation_masks = torch.tensor(validation_masks)"
            ],
            "execution_count": 12,
            "outputs": []
        },
        {
            "cell_type": "code",
            "metadata": {
                "id": "kU1ZK_noXQcW"
            },
            "source": [
                "from torch.utils.data import TensorDataset, DataLoader, RandomSampler, SequentialSampler\n",
                " \n",
                "# შევქმნათ DataLoader-ი დასასწავლი წინადადებებისთვის\n",
                "train_data = TensorDataset(train_inputs, train_masks, train_labels)\n",
                "train_sampler = RandomSampler(train_data)\n",
                "train_dataloader = DataLoader(train_data, sampler=train_sampler, batch_size=batch_size)\n",
                " \n",
                "# შევქმნათ DataLoader-ი გასატესტი წინადადებებისთვის\n",
                "validation_data = TensorDataset(validation_inputs, validation_masks, validation_labels)\n",
                "validation_sampler = SequentialSampler(validation_data)\n",
                "validation_dataloader = DataLoader(validation_data, sampler=validation_sampler, batch_size=batch_size)"
            ],
            "execution_count": 13,
            "outputs": []
        },
        {
            "cell_type": "code",
            "metadata": {
                "id": "NKt9zVD5adka",
                "colab": {
                    "base_uri": "https://localhost:8080/"
                },
                "outputId": "a5d26634-6fc9-4490-bf1d-680beb4f7664"
            },
            "source": [
                "from transformers import BertForSequenceClassification, AdamW, BertConfig\n",
                "# ჩამოვტვირთოთ BertForSequenceClassification, წინასწარ ნასწავლი BERT-ის მოდელი\n",
                "# რომელსაც თავზე აქვს მიდგმული კლასიფიქატორი ქსელი\n",
                " \n",
                "model = BertForSequenceClassification.from_pretrained(\n",
                "    transformer_name,\n",
                "    num_labels = label_number, # კლასების რაოდენობა - ჯერჯერობით 2 კლასი გვაქვს   \n",
                "    output_attentions = False, # არ დავაბრუნოთ attention weight-ები\n",
                "    output_hidden_states = False, # არ დავაბრუნოთ ფარული მეხსიერება\n",
                ")\n",
                "# ვიხმაროთ GPU გამოთვლებისთვის\n",
                "model.cuda()"
            ],
            "execution_count": 14,
            "outputs": [
                {
                    "output_type": "stream",
                    "text": [
                        "Some weights of the model checkpoint at bert-base-multilingual-cased were not used when initializing BertForSequenceClassification: ['cls.predictions.bias', 'cls.predictions.transform.dense.weight', 'cls.predictions.transform.dense.bias', 'cls.predictions.decoder.weight', 'cls.seq_relationship.weight', 'cls.seq_relationship.bias', 'cls.predictions.transform.LayerNorm.weight', 'cls.predictions.transform.LayerNorm.bias']\n",
                        "- This IS expected if you are initializing BertForSequenceClassification from the checkpoint of a model trained on another task or with another architecture (e.g. initializing a BertForSequenceClassification model from a BertForPretraining model).\n",
                        "- This IS NOT expected if you are initializing BertForSequenceClassification from the checkpoint of a model that you expect to be exactly identical (initializing a BertForSequenceClassification model from a BertForSequenceClassification model).\n",
                        "Some weights of BertForSequenceClassification were not initialized from the model checkpoint at bert-base-multilingual-cased and are newly initialized: ['classifier.weight', 'classifier.bias']\n",
                        "You should probably TRAIN this model on a down-stream task to be able to use it for predictions and inference.\n"
                    ],
                    "name": "stderr"
                },
                {
                    "output_type": "execute_result",
                    "data": {
                        "text/plain": [
                            "BertForSequenceClassification(\n",
                            "  (bert): BertModel(\n",
                            "    (embeddings): BertEmbeddings(\n",
                            "      (word_embeddings): Embedding(119547, 768, padding_idx=0)\n",
                            "      (position_embeddings): Embedding(512, 768)\n",
                            "      (token_type_embeddings): Embedding(2, 768)\n",
                            "      (LayerNorm): LayerNorm((768,), eps=1e-12, elementwise_affine=True)\n",
                            "      (dropout): Dropout(p=0.1, inplace=False)\n",
                            "    )\n",
                            "    (encoder): BertEncoder(\n",
                            "      (layer): ModuleList(\n",
                            "        (0): BertLayer(\n",
                            "          (attention): BertAttention(\n",
                            "            (self): BertSelfAttention(\n",
                            "              (query): Linear(in_features=768, out_features=768, bias=True)\n",
                            "              (key): Linear(in_features=768, out_features=768, bias=True)\n",
                            "              (value): Linear(in_features=768, out_features=768, bias=True)\n",
                            "              (dropout): Dropout(p=0.1, inplace=False)\n",
                            "            )\n",
                            "            (output): BertSelfOutput(\n",
                            "              (dense): Linear(in_features=768, out_features=768, bias=True)\n",
                            "              (LayerNorm): LayerNorm((768,), eps=1e-12, elementwise_affine=True)\n",
                            "              (dropout): Dropout(p=0.1, inplace=False)\n",
                            "            )\n",
                            "          )\n",
                            "          (intermediate): BertIntermediate(\n",
                            "            (dense): Linear(in_features=768, out_features=3072, bias=True)\n",
                            "          )\n",
                            "          (output): BertOutput(\n",
                            "            (dense): Linear(in_features=3072, out_features=768, bias=True)\n",
                            "            (LayerNorm): LayerNorm((768,), eps=1e-12, elementwise_affine=True)\n",
                            "            (dropout): Dropout(p=0.1, inplace=False)\n",
                            "          )\n",
                            "        )\n",
                            "        (1): BertLayer(\n",
                            "          (attention): BertAttention(\n",
                            "            (self): BertSelfAttention(\n",
                            "              (query): Linear(in_features=768, out_features=768, bias=True)\n",
                            "              (key): Linear(in_features=768, out_features=768, bias=True)\n",
                            "              (value): Linear(in_features=768, out_features=768, bias=True)\n",
                            "              (dropout): Dropout(p=0.1, inplace=False)\n",
                            "            )\n",
                            "            (output): BertSelfOutput(\n",
                            "              (dense): Linear(in_features=768, out_features=768, bias=True)\n",
                            "              (LayerNorm): LayerNorm((768,), eps=1e-12, elementwise_affine=True)\n",
                            "              (dropout): Dropout(p=0.1, inplace=False)\n",
                            "            )\n",
                            "          )\n",
                            "          (intermediate): BertIntermediate(\n",
                            "            (dense): Linear(in_features=768, out_features=3072, bias=True)\n",
                            "          )\n",
                            "          (output): BertOutput(\n",
                            "            (dense): Linear(in_features=3072, out_features=768, bias=True)\n",
                            "            (LayerNorm): LayerNorm((768,), eps=1e-12, elementwise_affine=True)\n",
                            "            (dropout): Dropout(p=0.1, inplace=False)\n",
                            "          )\n",
                            "        )\n",
                            "        (2): BertLayer(\n",
                            "          (attention): BertAttention(\n",
                            "            (self): BertSelfAttention(\n",
                            "              (query): Linear(in_features=768, out_features=768, bias=True)\n",
                            "              (key): Linear(in_features=768, out_features=768, bias=True)\n",
                            "              (value): Linear(in_features=768, out_features=768, bias=True)\n",
                            "              (dropout): Dropout(p=0.1, inplace=False)\n",
                            "            )\n",
                            "            (output): BertSelfOutput(\n",
                            "              (dense): Linear(in_features=768, out_features=768, bias=True)\n",
                            "              (LayerNorm): LayerNorm((768,), eps=1e-12, elementwise_affine=True)\n",
                            "              (dropout): Dropout(p=0.1, inplace=False)\n",
                            "            )\n",
                            "          )\n",
                            "          (intermediate): BertIntermediate(\n",
                            "            (dense): Linear(in_features=768, out_features=3072, bias=True)\n",
                            "          )\n",
                            "          (output): BertOutput(\n",
                            "            (dense): Linear(in_features=3072, out_features=768, bias=True)\n",
                            "            (LayerNorm): LayerNorm((768,), eps=1e-12, elementwise_affine=True)\n",
                            "            (dropout): Dropout(p=0.1, inplace=False)\n",
                            "          )\n",
                            "        )\n",
                            "        (3): BertLayer(\n",
                            "          (attention): BertAttention(\n",
                            "            (self): BertSelfAttention(\n",
                            "              (query): Linear(in_features=768, out_features=768, bias=True)\n",
                            "              (key): Linear(in_features=768, out_features=768, bias=True)\n",
                            "              (value): Linear(in_features=768, out_features=768, bias=True)\n",
                            "              (dropout): Dropout(p=0.1, inplace=False)\n",
                            "            )\n",
                            "            (output): BertSelfOutput(\n",
                            "              (dense): Linear(in_features=768, out_features=768, bias=True)\n",
                            "              (LayerNorm): LayerNorm((768,), eps=1e-12, elementwise_affine=True)\n",
                            "              (dropout): Dropout(p=0.1, inplace=False)\n",
                            "            )\n",
                            "          )\n",
                            "          (intermediate): BertIntermediate(\n",
                            "            (dense): Linear(in_features=768, out_features=3072, bias=True)\n",
                            "          )\n",
                            "          (output): BertOutput(\n",
                            "            (dense): Linear(in_features=3072, out_features=768, bias=True)\n",
                            "            (LayerNorm): LayerNorm((768,), eps=1e-12, elementwise_affine=True)\n",
                            "            (dropout): Dropout(p=0.1, inplace=False)\n",
                            "          )\n",
                            "        )\n",
                            "        (4): BertLayer(\n",
                            "          (attention): BertAttention(\n",
                            "            (self): BertSelfAttention(\n",
                            "              (query): Linear(in_features=768, out_features=768, bias=True)\n",
                            "              (key): Linear(in_features=768, out_features=768, bias=True)\n",
                            "              (value): Linear(in_features=768, out_features=768, bias=True)\n",
                            "              (dropout): Dropout(p=0.1, inplace=False)\n",
                            "            )\n",
                            "            (output): BertSelfOutput(\n",
                            "              (dense): Linear(in_features=768, out_features=768, bias=True)\n",
                            "              (LayerNorm): LayerNorm((768,), eps=1e-12, elementwise_affine=True)\n",
                            "              (dropout): Dropout(p=0.1, inplace=False)\n",
                            "            )\n",
                            "          )\n",
                            "          (intermediate): BertIntermediate(\n",
                            "            (dense): Linear(in_features=768, out_features=3072, bias=True)\n",
                            "          )\n",
                            "          (output): BertOutput(\n",
                            "            (dense): Linear(in_features=3072, out_features=768, bias=True)\n",
                            "            (LayerNorm): LayerNorm((768,), eps=1e-12, elementwise_affine=True)\n",
                            "            (dropout): Dropout(p=0.1, inplace=False)\n",
                            "          )\n",
                            "        )\n",
                            "        (5): BertLayer(\n",
                            "          (attention): BertAttention(\n",
                            "            (self): BertSelfAttention(\n",
                            "              (query): Linear(in_features=768, out_features=768, bias=True)\n",
                            "              (key): Linear(in_features=768, out_features=768, bias=True)\n",
                            "              (value): Linear(in_features=768, out_features=768, bias=True)\n",
                            "              (dropout): Dropout(p=0.1, inplace=False)\n",
                            "            )\n",
                            "            (output): BertSelfOutput(\n",
                            "              (dense): Linear(in_features=768, out_features=768, bias=True)\n",
                            "              (LayerNorm): LayerNorm((768,), eps=1e-12, elementwise_affine=True)\n",
                            "              (dropout): Dropout(p=0.1, inplace=False)\n",
                            "            )\n",
                            "          )\n",
                            "          (intermediate): BertIntermediate(\n",
                            "            (dense): Linear(in_features=768, out_features=3072, bias=True)\n",
                            "          )\n",
                            "          (output): BertOutput(\n",
                            "            (dense): Linear(in_features=3072, out_features=768, bias=True)\n",
                            "            (LayerNorm): LayerNorm((768,), eps=1e-12, elementwise_affine=True)\n",
                            "            (dropout): Dropout(p=0.1, inplace=False)\n",
                            "          )\n",
                            "        )\n",
                            "        (6): BertLayer(\n",
                            "          (attention): BertAttention(\n",
                            "            (self): BertSelfAttention(\n",
                            "              (query): Linear(in_features=768, out_features=768, bias=True)\n",
                            "              (key): Linear(in_features=768, out_features=768, bias=True)\n",
                            "              (value): Linear(in_features=768, out_features=768, bias=True)\n",
                            "              (dropout): Dropout(p=0.1, inplace=False)\n",
                            "            )\n",
                            "            (output): BertSelfOutput(\n",
                            "              (dense): Linear(in_features=768, out_features=768, bias=True)\n",
                            "              (LayerNorm): LayerNorm((768,), eps=1e-12, elementwise_affine=True)\n",
                            "              (dropout): Dropout(p=0.1, inplace=False)\n",
                            "            )\n",
                            "          )\n",
                            "          (intermediate): BertIntermediate(\n",
                            "            (dense): Linear(in_features=768, out_features=3072, bias=True)\n",
                            "          )\n",
                            "          (output): BertOutput(\n",
                            "            (dense): Linear(in_features=3072, out_features=768, bias=True)\n",
                            "            (LayerNorm): LayerNorm((768,), eps=1e-12, elementwise_affine=True)\n",
                            "            (dropout): Dropout(p=0.1, inplace=False)\n",
                            "          )\n",
                            "        )\n",
                            "        (7): BertLayer(\n",
                            "          (attention): BertAttention(\n",
                            "            (self): BertSelfAttention(\n",
                            "              (query): Linear(in_features=768, out_features=768, bias=True)\n",
                            "              (key): Linear(in_features=768, out_features=768, bias=True)\n",
                            "              (value): Linear(in_features=768, out_features=768, bias=True)\n",
                            "              (dropout): Dropout(p=0.1, inplace=False)\n",
                            "            )\n",
                            "            (output): BertSelfOutput(\n",
                            "              (dense): Linear(in_features=768, out_features=768, bias=True)\n",
                            "              (LayerNorm): LayerNorm((768,), eps=1e-12, elementwise_affine=True)\n",
                            "              (dropout): Dropout(p=0.1, inplace=False)\n",
                            "            )\n",
                            "          )\n",
                            "          (intermediate): BertIntermediate(\n",
                            "            (dense): Linear(in_features=768, out_features=3072, bias=True)\n",
                            "          )\n",
                            "          (output): BertOutput(\n",
                            "            (dense): Linear(in_features=3072, out_features=768, bias=True)\n",
                            "            (LayerNorm): LayerNorm((768,), eps=1e-12, elementwise_affine=True)\n",
                            "            (dropout): Dropout(p=0.1, inplace=False)\n",
                            "          )\n",
                            "        )\n",
                            "        (8): BertLayer(\n",
                            "          (attention): BertAttention(\n",
                            "            (self): BertSelfAttention(\n",
                            "              (query): Linear(in_features=768, out_features=768, bias=True)\n",
                            "              (key): Linear(in_features=768, out_features=768, bias=True)\n",
                            "              (value): Linear(in_features=768, out_features=768, bias=True)\n",
                            "              (dropout): Dropout(p=0.1, inplace=False)\n",
                            "            )\n",
                            "            (output): BertSelfOutput(\n",
                            "              (dense): Linear(in_features=768, out_features=768, bias=True)\n",
                            "              (LayerNorm): LayerNorm((768,), eps=1e-12, elementwise_affine=True)\n",
                            "              (dropout): Dropout(p=0.1, inplace=False)\n",
                            "            )\n",
                            "          )\n",
                            "          (intermediate): BertIntermediate(\n",
                            "            (dense): Linear(in_features=768, out_features=3072, bias=True)\n",
                            "          )\n",
                            "          (output): BertOutput(\n",
                            "            (dense): Linear(in_features=3072, out_features=768, bias=True)\n",
                            "            (LayerNorm): LayerNorm((768,), eps=1e-12, elementwise_affine=True)\n",
                            "            (dropout): Dropout(p=0.1, inplace=False)\n",
                            "          )\n",
                            "        )\n",
                            "        (9): BertLayer(\n",
                            "          (attention): BertAttention(\n",
                            "            (self): BertSelfAttention(\n",
                            "              (query): Linear(in_features=768, out_features=768, bias=True)\n",
                            "              (key): Linear(in_features=768, out_features=768, bias=True)\n",
                            "              (value): Linear(in_features=768, out_features=768, bias=True)\n",
                            "              (dropout): Dropout(p=0.1, inplace=False)\n",
                            "            )\n",
                            "            (output): BertSelfOutput(\n",
                            "              (dense): Linear(in_features=768, out_features=768, bias=True)\n",
                            "              (LayerNorm): LayerNorm((768,), eps=1e-12, elementwise_affine=True)\n",
                            "              (dropout): Dropout(p=0.1, inplace=False)\n",
                            "            )\n",
                            "          )\n",
                            "          (intermediate): BertIntermediate(\n",
                            "            (dense): Linear(in_features=768, out_features=3072, bias=True)\n",
                            "          )\n",
                            "          (output): BertOutput(\n",
                            "            (dense): Linear(in_features=3072, out_features=768, bias=True)\n",
                            "            (LayerNorm): LayerNorm((768,), eps=1e-12, elementwise_affine=True)\n",
                            "            (dropout): Dropout(p=0.1, inplace=False)\n",
                            "          )\n",
                            "        )\n",
                            "        (10): BertLayer(\n",
                            "          (attention): BertAttention(\n",
                            "            (self): BertSelfAttention(\n",
                            "              (query): Linear(in_features=768, out_features=768, bias=True)\n",
                            "              (key): Linear(in_features=768, out_features=768, bias=True)\n",
                            "              (value): Linear(in_features=768, out_features=768, bias=True)\n",
                            "              (dropout): Dropout(p=0.1, inplace=False)\n",
                            "            )\n",
                            "            (output): BertSelfOutput(\n",
                            "              (dense): Linear(in_features=768, out_features=768, bias=True)\n",
                            "              (LayerNorm): LayerNorm((768,), eps=1e-12, elementwise_affine=True)\n",
                            "              (dropout): Dropout(p=0.1, inplace=False)\n",
                            "            )\n",
                            "          )\n",
                            "          (intermediate): BertIntermediate(\n",
                            "            (dense): Linear(in_features=768, out_features=3072, bias=True)\n",
                            "          )\n",
                            "          (output): BertOutput(\n",
                            "            (dense): Linear(in_features=3072, out_features=768, bias=True)\n",
                            "            (LayerNorm): LayerNorm((768,), eps=1e-12, elementwise_affine=True)\n",
                            "            (dropout): Dropout(p=0.1, inplace=False)\n",
                            "          )\n",
                            "        )\n",
                            "        (11): BertLayer(\n",
                            "          (attention): BertAttention(\n",
                            "            (self): BertSelfAttention(\n",
                            "              (query): Linear(in_features=768, out_features=768, bias=True)\n",
                            "              (key): Linear(in_features=768, out_features=768, bias=True)\n",
                            "              (value): Linear(in_features=768, out_features=768, bias=True)\n",
                            "              (dropout): Dropout(p=0.1, inplace=False)\n",
                            "            )\n",
                            "            (output): BertSelfOutput(\n",
                            "              (dense): Linear(in_features=768, out_features=768, bias=True)\n",
                            "              (LayerNorm): LayerNorm((768,), eps=1e-12, elementwise_affine=True)\n",
                            "              (dropout): Dropout(p=0.1, inplace=False)\n",
                            "            )\n",
                            "          )\n",
                            "          (intermediate): BertIntermediate(\n",
                            "            (dense): Linear(in_features=768, out_features=3072, bias=True)\n",
                            "          )\n",
                            "          (output): BertOutput(\n",
                            "            (dense): Linear(in_features=3072, out_features=768, bias=True)\n",
                            "            (LayerNorm): LayerNorm((768,), eps=1e-12, elementwise_affine=True)\n",
                            "            (dropout): Dropout(p=0.1, inplace=False)\n",
                            "          )\n",
                            "        )\n",
                            "      )\n",
                            "    )\n",
                            "    (pooler): BertPooler(\n",
                            "      (dense): Linear(in_features=768, out_features=768, bias=True)\n",
                            "      (activation): Tanh()\n",
                            "    )\n",
                            "  )\n",
                            "  (dropout): Dropout(p=0.1, inplace=False)\n",
                            "  (classifier): Linear(in_features=768, out_features=2, bias=True)\n",
                            ")"
                        ]
                    },
                    "metadata": {
                        "tags": []
                    },
                    "execution_count": 14
                }
            ]
        },
        {
            "cell_type": "code",
            "metadata": {
                "id": "jD6-9TuTgCKD"
            },
            "source": [
                "optimizer = AdamW(model.parameters(),\n",
                "                  lr = 2e-5, # args.learning_rate\n",
                "                  eps = 1e-8 # args.adam_epsilon\n",
                "                )\n",
                "from transformers import get_linear_schedule_with_warmup\n",
                " \n",
                "\n",
                "# total_steps = batches * epochs, სადაც batch არის დასასწავლ მონაცემთა რაღაც ქვესიმრავლე\n",
                "# რომელზეც ეპოქის დროს ისწავლის ქსელი\n",
                "total_steps = len(train_dataloader) * epochs\n",
                " \n",
                "# scheduler განსაზღვრავს სწავლების თანმიმდევრობას\n",
                "scheduler = get_linear_schedule_with_warmup(optimizer, \n",
                "                                            num_warmup_steps = 0,\n",
                "                                            num_training_steps = total_steps)"
            ],
            "execution_count": 15,
            "outputs": []
        },
        {
            "cell_type": "code",
            "metadata": {
                "id": "kBnAyz1u2ai2"
            },
            "source": [
                "import numpy as np\n",
                "\n",
                "# დამხმარე ფუნქცია რომელიც დაითვლის წინასწარმეტყველების სიზუსტეს label-ებთან შედარებით\n",
                "def flat_accuracy(preds, labels):\n",
                "    pred_flat = np.argmax(preds, axis=1).flatten()\n",
                "    labels_flat = labels.flatten()\n",
                "    return np.sum(pred_flat == labels_flat) / len(labels_flat)"
            ],
            "execution_count": 16,
            "outputs": []
        },
        {
            "cell_type": "code",
            "metadata": {
                "id": "vN0R5CYp3E0y"
            },
            "source": [
                "import time\n",
                "import datetime\n",
                "\n",
                "def format_time(elapsed):\n",
                "    '''\n",
                "    იღებს დროს წამებში და აბრუნებს string-ს hh:mm:ss ფორმატში\n",
                "    '''\n",
                "    # დავამრგვალოთ ქვემოთ უახლოეს წამამდე\n",
                "    elapsed_rounded = int(round((elapsed)))\n",
                "    \n",
                "    # დავაფორმატოთ როგორც hh:mm:ss\n",
                "    return str(datetime.timedelta(seconds=elapsed_rounded))"
            ],
            "execution_count": 17,
            "outputs": []
        },
        {
            "cell_type": "code",
            "metadata": {
                "id": "WISYyO5q3WUf",
                "colab": {
                    "base_uri": "https://localhost:8080/"
                },
                "outputId": "3080cd37-b8a9-4e29-c53f-a8adb73883de"
            },
            "source": [
                "import random\n",
                "import numpy as np\n",
                " \n",
                " \n",
                "# ფსევდოშემთხვევითი რიცხვების გენერაციის დათესვა\n",
                "seed_val = 42\n",
                " \n",
                "random.seed(seed_val)\n",
                "np.random.seed(seed_val)\n",
                "torch.manual_seed(seed_val)\n",
                "torch.cuda.manual_seed_all(seed_val)\n",
                " \n",
                "# ამ ცვლადში ვინახავთ შემდეგ სიდიდეებს: გაწრთვნის და ვალიდაციის ცდომილებას,\n",
                "# ვალიდაციის სიზუსტეს და დროებს\n",
                "training_stats = []\n",
                " \n",
                "# სრული დრო გაწრთვნის\n",
                "total_t0 = time.time()\n",
                " \n",
                "# გადავყვეთ ყველა ეპოქას\n",
                "for epoch_i in range(0, epochs):\n",
                "    \n",
                "    # ========================================\n",
                "    #               წრთვნა\n",
                "    # ========================================\n",
                "    \n",
                "    # ერთხელ გადავყვეთ training set-ს ამ ეპოქაში\n",
                " \n",
                "    print(\"\")\n",
                "    print('======== Epoch {:} / {:} ========'.format(epoch_i + 1, epochs))\n",
                "    print('Training...')\n",
                " \n",
                "    # ამ ეპოქის წრთვნის დრო\n",
                "    t0 = time.time()\n",
                " \n",
                "    # განვაახლოთ ცდომილება ამ ეპოქისთვის\n",
                "    total_train_loss = 0\n",
                " \n",
                " \n",
                "    # მოდელს ჩავურთოთ წრთვნის რეჟიმი (ჯერ წრთვნა არ მიმდინარეობს)\n",
                "    model.train()\n",
                " \n",
                "    # გადავყვეთ batch-ებს\n",
                "    for step, batch in enumerate(train_dataloader):\n",
                " \n",
                "        # ყოველ 40 batch-ში დავბეჭდოთ პროგრესი\n",
                "        if step % 40 == 0 and not step == 0:\n",
                "            # გასული დრო წუთებში\n",
                "            elapsed = format_time(time.time() - t0)\n",
                "            \n",
                "            # პროგრესი\n",
                "            print('  Batch {:>5,}  of  {:>5,}.    Elapsed: {:}.'.format(step, len(train_dataloader), elapsed))\n",
                " \n",
                "        # ამოვიღოთ ეს დასასწავლი batch-ი dataloader-დან და\n",
                "        # გადავცეთ მისი ტენზორები GPU-ს `to` მეთოდით\n",
                "        #\n",
                "        #\n",
                "        #\n",
                "        #\n",
                "        # `batch`-ში არის 3 pytorch-ის ტენზორი:\n",
                "        #   [0]: input id-ები\n",
                "        #   [1]: ყურადღების მასკები\n",
                "        #   [2]: label-ები\n",
                "        b_input_ids = batch[0].to(device)\n",
                "        b_input_mask = batch[1].to(device)\n",
                "        b_labels = batch[2].to(device)\n",
                " \n",
                "        # გავწმინდოთ წინა იტერაციის მიერ დათვლილი გრადიენტი\n",
                "        model.zero_grad()        \n",
                " \n",
                "        # დავასწავლოთ მოდელი ამ batch-ზე. model ფუნქცია აბრუნებს ცდომილებას და logit-ებს,\n",
                "        # მოდელის output-ები სანამ მათი ნორმალიზაცია მოხდებოდა\n",
                "        # https://developers.google.com/machine-learning/glossary/#logits\n",
                "        loss, logits = model(b_input_ids, \n",
                "                             token_type_ids=None, \n",
                "                             attention_mask=b_input_mask, \n",
                "                             labels=b_labels)\n",
                " \n",
                " \n",
                "        # ავჯამოთ ცდომილებები ყველა batch-იდან. loss არის ერთ ელემენტიანი ტენზორი\n",
                "        # item() ფუნქცია აბრუნებს ამ ელემენტს\n",
                "        total_train_loss += loss.item()\n",
                " \n",
                "        # უკუგავრცელება (დავითვალოთ გრადიენტები)\n",
                "        loss.backward()\n",
                " \n",
                "        # გავაკეთოთ ე.წ. gradient clipping, ანუ თუ გრადიენტმა გადააჭარბა\n",
                "        # 1.0-ს, მოვახდინოთ მისი ნორმირება, რიომ შემცირდეს. საჭიროა\n",
                "        # \"exploding gradients\" problem-ის თავიდან ასაცილებლად\n",
                "        # https://towardsdatascience.com/what-is-gradient-clipping-b8e815cdfb48\n",
                "        torch.nn.utils.clip_grad_norm_(model.parameters(), 1.0)\n",
                " \n",
                " \n",
                "        # განვაახლოთ ქსელის პარამეტრები გამოთვლილი გრადიენტით და გადავდგათ\n",
                "        # ნაბიჯი (step). თუ როგორ განახლდება პარამეტრები, ამას განსაზღვრავს\n",
                "        # ოპტიმიზატორი AdamWest\n",
                "        optimizer.step()\n",
                " \n",
                "        # ასევე განვაახლოთ სწავლების სიჩქარე (ნაბიჯი == სწავლების სიჩქარე * გრადიენტი)\n",
                "        scheduler.step()\n",
                " \n",
                " \n",
                "    # დავითვალოთ საშუალო ცდომილება ყველა batch-ში\n",
                "    avg_train_loss = total_train_loss / len(train_dataloader)            \n",
                "    \n",
                "    # გავზომოთ თუ რა დრო მოუნდა ამ ეპოქას\n",
                "    training_time = format_time(time.time() - t0)\n",
                " \n",
                "    print(\"\")\n",
                "    print(\"  Average training loss: {0:.2f}\".format(avg_train_loss))\n",
                "    print(\"  Training epcoh took: {:}\".format(training_time))\n",
                "        \n",
                "    # ========================================\n",
                "    #               ვალიდაცია\n",
                "    # ========================================\n",
                "    # ყოველი ეპოქის შემდეგ, დავითვალოთ ქსელის ეფექტურობა ვალიდაციის\n",
                "    # სიმრავლეზე\n",
                " \n",
                "    print(\"\")\n",
                "    print(\"Running Validation...\")\n",
                " \n",
                "    t0 = time.time()\n",
                " \n",
                "    # მოდელი გავუშვათ evaluation რეჟიმში\n",
                "    model.eval()\n",
                " \n",
                "    total_eval_accuracy = 0\n",
                "    total_eval_loss = 0\n",
                "    nb_eval_steps = 0\n",
                " \n",
                "    # გავაკეთოთ ვალიდაცია ამ ეპოქაზე\n",
                "    for batch in validation_dataloader:\n",
                "        \n",
                "        # ამოვიღოთ batch-ი validation_dataloader-დან\n",
                "        b_input_ids = batch[0].to(device)\n",
                "        b_input_mask = batch[1].to(device)\n",
                "        b_labels = batch[2].to(device)\n",
                "        \n",
                "        # ვუთხრათ pytorch-ს რომ არ გამოითვალოს გრადიენტი, რადგან მისი\n",
                "        # გამოთვლა მხოლოდ სწავლებისას არის საჭირო\n",
                "        with torch.no_grad():        \n",
                " \n",
                " \n",
                "            # logit-ები არის ქსელის გამომავალი მნიშვნელობები, სანამ ისინი აქტივაციის ფუნქციაში\n",
                "            # (მაგ. softmax-ში) ჩაისმებოდნენ და ნორმალიზდებოდნენ\n",
                "            (loss, logits) = model(b_input_ids, \n",
                "                                   token_type_ids=None, \n",
                "                                   attention_mask=b_input_mask,\n",
                "                                   labels=b_labels)\n",
                "            \n",
                "        # ავჯამოთ ვალიდაციის ცდომილება\n",
                "        total_eval_loss += loss.item()\n",
                " \n",
                "        # გადავიტანოთ logits-ები და label-ები cpu-ში\n",
                "        logits = logits.detach().cpu().numpy()\n",
                "        label_ids = b_labels.to('cpu').numpy()\n",
                " \n",
                " \n",
                "        # დავითვალოთ ამ სატესტო წინადადებების batch-ის სიზუსტე\n",
                "        # და ავჯამოთ ეს სიზუსტეები ყველა batch-ისთვის\n",
                "        total_eval_accuracy += flat_accuracy(logits, label_ids)\n",
                "        \n",
                " \n",
                "    # ამ ვალიდაციის დავბეჭდოთ საბოლოო სიზუსტე\n",
                "    avg_val_accuracy = total_eval_accuracy / len(validation_dataloader)\n",
                "    print(\"  Accuracy: {0:.2f}\".format(avg_val_accuracy))\n",
                " \n",
                "    # batch-ის საშუალო ცდომილება ყველა\n",
                "    avg_val_loss = total_eval_loss / len(validation_dataloader)\n",
                "    \n",
                "    # რამდენი ხანი დასჭირდა ვალიდაციას\n",
                "    validation_time = format_time(time.time() - t0)\n",
                "    \n",
                "    print(\"  Validation Loss: {0:.2f}\".format(avg_val_loss))\n",
                "    print(\"  Validation took: {:}\".format(validation_time))\n",
                " \n",
                "    # ჩავინიშნოთ ამ ვალიდაციის ყველა მონაცემი\n",
                "    training_stats.append(\n",
                "        {\n",
                "            'epoch': epoch_i + 1,\n",
                "            'Training Loss': avg_train_loss,\n",
                "            'Valid. Loss': avg_val_loss,\n",
                "            'Valid. Accur.': avg_val_accuracy,\n",
                "            'Training Time': training_time,\n",
                "            'Validation Time': validation_time\n",
                "        }\n",
                "    )\n",
                " \n",
                "print(\"\")\n",
                "print(\"Training complete!\")\n",
                " \n",
                "print(\"Total training took {:} (h:mm:ss)\".format(format_time(time.time()-total_t0)))"
            ],
            "execution_count": 18,
            "outputs": [
                {
                    "output_type": "stream",
                    "text": [
                        "\n",
                        "======== Epoch 1 / 5 ========\n",
                        "Training...\n",
                        "\n",
                        "  Average training loss: 0.67\n",
                        "  Training epcoh took: 0:00:03\n",
                        "\n",
                        "Running Validation...\n",
                        "  Accuracy: 0.81\n",
                        "  Validation Loss: 0.58\n",
                        "  Validation took: 0:00:00\n",
                        "\n",
                        "======== Epoch 2 / 5 ========\n",
                        "Training...\n",
                        "\n",
                        "  Average training loss: 0.46\n",
                        "  Training epcoh took: 0:00:03\n",
                        "\n",
                        "Running Validation...\n",
                        "  Accuracy: 0.75\n",
                        "  Validation Loss: 0.44\n",
                        "  Validation took: 0:00:00\n",
                        "\n",
                        "======== Epoch 3 / 5 ========\n",
                        "Training...\n",
                        "\n",
                        "  Average training loss: 0.37\n",
                        "  Training epcoh took: 0:00:03\n",
                        "\n",
                        "Running Validation...\n",
                        "  Accuracy: 0.81\n",
                        "  Validation Loss: 0.38\n",
                        "  Validation took: 0:00:00\n",
                        "\n",
                        "======== Epoch 4 / 5 ========\n",
                        "Training...\n",
                        "\n",
                        "  Average training loss: 0.27\n",
                        "  Training epcoh took: 0:00:03\n",
                        "\n",
                        "Running Validation...\n",
                        "  Accuracy: 0.88\n",
                        "  Validation Loss: 0.34\n",
                        "  Validation took: 0:00:00\n",
                        "\n",
                        "======== Epoch 5 / 5 ========\n",
                        "Training...\n",
                        "\n",
                        "  Average training loss: 0.23\n",
                        "  Training epcoh took: 0:00:03\n",
                        "\n",
                        "Running Validation...\n",
                        "  Accuracy: 0.94\n",
                        "  Validation Loss: 0.31\n",
                        "  Validation took: 0:00:00\n",
                        "\n",
                        "Training complete!\n",
                        "Total training took 0:00:17 (h:mm:ss)\n"
                    ],
                    "name": "stdout"
                }
            ]
        },
        {
            "cell_type": "code",
            "metadata": {
                "id": "1sIwvk6U3dsK",
                "colab": {
                    "base_uri": "https://localhost:8080/",
                    "height": 234
                },
                "outputId": "84b7889c-0f14-41e4-ca91-93f9aca5da35"
            },
            "source": [
                "import pandas as pd\n",
                "\n",
                "# მძიმის შემდეგ 2 ციფრის სიზუსტიდ ამოვწეროთ\n",
                "pd.set_option('precision', 2)\n",
                "\n",
                "# შევქმნათ pandas-ის DataFrame ჩვენი სწავლების სტატისტიკებიდან\n",
                "df_stats = pd.DataFrame(data=training_stats)\n",
                "\n",
                "# გამოვიყენოთ ეპოქა როგორც ინდექსი\n",
                "df_stats = df_stats.set_index('epoch')\n",
                "\n",
                "# დავბეჭდოთ DataFrame\n",
                "df_stats"
            ],
            "execution_count": 19,
            "outputs": [
                {
                    "output_type": "execute_result",
                    "data": {
                        "text/html": [
                            "<div>\n",
                            "<style scoped>\n",
                            "    .dataframe tbody tr th:only-of-type {\n",
                            "        vertical-align: middle;\n",
                            "    }\n",
                            "\n",
                            "    .dataframe tbody tr th {\n",
                            "        vertical-align: top;\n",
                            "    }\n",
                            "\n",
                            "    .dataframe thead th {\n",
                            "        text-align: right;\n",
                            "    }\n",
                            "</style>\n",
                            "<table border=\"1\" class=\"dataframe\">\n",
                            "  <thead>\n",
                            "    <tr style=\"text-align: right;\">\n",
                            "      <th></th>\n",
                            "      <th>Training Loss</th>\n",
                            "      <th>Valid. Loss</th>\n",
                            "      <th>Valid. Accur.</th>\n",
                            "      <th>Training Time</th>\n",
                            "      <th>Validation Time</th>\n",
                            "    </tr>\n",
                            "    <tr>\n",
                            "      <th>epoch</th>\n",
                            "      <th></th>\n",
                            "      <th></th>\n",
                            "      <th></th>\n",
                            "      <th></th>\n",
                            "      <th></th>\n",
                            "    </tr>\n",
                            "  </thead>\n",
                            "  <tbody>\n",
                            "    <tr>\n",
                            "      <th>1</th>\n",
                            "      <td>0.67</td>\n",
                            "      <td>0.58</td>\n",
                            "      <td>0.81</td>\n",
                            "      <td>0:00:03</td>\n",
                            "      <td>0:00:00</td>\n",
                            "    </tr>\n",
                            "    <tr>\n",
                            "      <th>2</th>\n",
                            "      <td>0.46</td>\n",
                            "      <td>0.44</td>\n",
                            "      <td>0.75</td>\n",
                            "      <td>0:00:03</td>\n",
                            "      <td>0:00:00</td>\n",
                            "    </tr>\n",
                            "    <tr>\n",
                            "      <th>3</th>\n",
                            "      <td>0.37</td>\n",
                            "      <td>0.38</td>\n",
                            "      <td>0.81</td>\n",
                            "      <td>0:00:03</td>\n",
                            "      <td>0:00:00</td>\n",
                            "    </tr>\n",
                            "    <tr>\n",
                            "      <th>4</th>\n",
                            "      <td>0.27</td>\n",
                            "      <td>0.34</td>\n",
                            "      <td>0.88</td>\n",
                            "      <td>0:00:03</td>\n",
                            "      <td>0:00:00</td>\n",
                            "    </tr>\n",
                            "    <tr>\n",
                            "      <th>5</th>\n",
                            "      <td>0.23</td>\n",
                            "      <td>0.31</td>\n",
                            "      <td>0.94</td>\n",
                            "      <td>0:00:03</td>\n",
                            "      <td>0:00:00</td>\n",
                            "    </tr>\n",
                            "  </tbody>\n",
                            "</table>\n",
                            "</div>"
                        ],
                        "text/plain": [
                            "       Training Loss  Valid. Loss  Valid. Accur. Training Time Validation Time\n",
                            "epoch                                                                         \n",
                            "1               0.67         0.58           0.81       0:00:03         0:00:00\n",
                            "2               0.46         0.44           0.75       0:00:03         0:00:00\n",
                            "3               0.37         0.38           0.81       0:00:03         0:00:00\n",
                            "4               0.27         0.34           0.88       0:00:03         0:00:00\n",
                            "5               0.23         0.31           0.94       0:00:03         0:00:00"
                        ]
                    },
                    "metadata": {
                        "tags": []
                    },
                    "execution_count": 19
                }
            ]
        },
        {
            "cell_type": "markdown",
            "metadata": {
                "id": "Fah1aEqrltTV"
            },
            "source": [
                "# შედეგების ვიზუალიზაცია"
            ]
        },
        {
            "cell_type": "code",
            "metadata": {
                "id": "dhLv1ZI930oW",
                "colab": {
                    "base_uri": "https://localhost:8080/",
                    "height": 410
                },
                "outputId": "02eb3df3-e6b4-4b1d-f116-b63cf4ecc4ef"
            },
            "source": [
                "import matplotlib.pyplot as plt\n",
                "% matplotlib inline\n",
                "\n",
                "import seaborn as sns\n",
                "\n",
                "# seaborn ბიბლიოთეკით გალამაზება\n",
                "sns.set(style='darkgrid')\n",
                "\n",
                "# ზომა და ფონტის ზომა\n",
                "sns.set(font_scale=1)\n",
                "plt.rcParams[\"figure.figsize\"] = (12,6)\n",
                "\n",
                "# დავხატოთ სწავლების გრაფიკი\n",
                "plt.plot(df_stats['Training Loss'], 'b-o', label=\"Training\")\n",
                "plt.plot(df_stats['Valid. Loss'], 'g-o', label=\"Validation\")\n",
                "\n",
                "# ღერძებს დავარქვათ სახელები\n",
                "plt.title(\"Training & Validation Loss\")\n",
                "plt.xlabel(\"Epoch\")\n",
                "plt.ylabel(\"Loss\")\n",
                "plt.legend()\n",
                "plt.xticks(range(1,epochs))\n",
                "\n",
                "plt.show()"
            ],
            "execution_count": 20,
            "outputs": [
                {
                    "output_type": "display_data",
                    "data": {
                        "image/png": "[encoded data removed]",
                        "text/plain": [
                            "<Figure size 864x432 with 1 Axes>"
                        ]
                    },
                    "metadata": {
                        "tags": []
                    }
                }
            ]
        },
        {
            "cell_type": "code",
            "metadata": {
                "id": "dcqAw5bqDfYU",
                "colab": {
                    "base_uri": "https://localhost:8080/",
                    "height": 427
                },
                "outputId": "1daee41d-6d27-4768-871e-761cd81c9ddf"
            },
            "source": [
                "# სიზუსტის გრაფიკი\n",
                "plt.rcParams[\"figure.figsize\"] = (12,6)\n",
                "\n",
                "\n",
                "plt.plot(df_stats['Valid. Accur.'], 'y-o')\n",
                "\n",
                "\n",
                "plt.title(\"Accuracy vs epoch\")\n",
                "plt.xlabel(\"Epoch\")\n",
                "plt.ylabel(\"Accuracy\")\n",
                "plt.legend()\n",
                "plt.xticks(range(1,epochs))\n",
                "\n",
                "plt.show()"
            ],
            "execution_count": 21,
            "outputs": [
                {
                    "output_type": "stream",
                    "text": [
                        "No handles with labels found to put in legend.\n"
                    ],
                    "name": "stderr"
                },
                {
                    "output_type": "display_data",
                    "data": {
                        "image/png": "[encoded data removed]",
                        "text/plain": [
                            "<Figure size 864x432 with 1 Axes>"
                        ]
                    },
                    "metadata": {
                        "tags": []
                    }
                }
            ]
        },
        {
            "cell_type": "code",
            "metadata": {
                "id": "74E3o4a_OwsI",
                "colab": {
                    "base_uri": "https://localhost:8080/"
                },
                "outputId": "8a3d7f98-d6b8-4f17-83f1-fb02099a7d68"
            },
            "source": [
                "import pandas as pd\n",
                "\n",
                "df = pd.read_csv(\"labeled_sentences_test.csv\")\n",
                "print('Number of test sentences: {:,}\\n'.format(df.shape[0]))\n",
                "\n",
                "sentences = df.sentence.values\n",
                "labels = df.label.values\n",
                "\n",
                "input_ids = []\n",
                "attention_masks = []\n",
                "\n",
                "# For every sentence...\n",
                "for sent in sentences:\n",
                "    encoded_dict = tokenizer.encode_plus(\n",
                "                        sent,                      # წინადადება რომლის ენკოდინგიც გვინდა\n",
                "                        add_special_tokens = True, # დაამატოს '[CLS]' და '[SEP]' ტოკენები\n",
                "                        max_length = 64,           # გააკეთოს პადინგი და დიდ წინადადებებს ჩამოაჭრას ბოლოები\n",
                "                        pad_to_max_length = True,\n",
                "                        return_attention_mask = True,   # შექმნას ყურადღების masks-ები\n",
                "                        return_tensors = 'pt',     # დააბრუნოს pytorch-ის ტენზორები\n",
                "                        truncation=True,\n",
                "                   )\n",
                "    \n",
                "\n",
                "    input_ids.append(encoded_dict['input_ids'])\n",
                "    \n",
                "\n",
                "    attention_masks.append(encoded_dict['attention_mask'])\n",
                "\n",
                "# ვაქციოთ სიები ტენზორებად\n",
                "input_ids = torch.cat(input_ids, dim=0)\n",
                "attention_masks = torch.cat(attention_masks, dim=0)\n",
                "labels = torch.tensor(labels)\n",
                "\n",
                " \n",
                "batch_size = 32  \n",
                "\n",
                "# DataLoader შევქმნათ\n",
                "prediction_data = TensorDataset(input_ids, attention_masks, labels)\n",
                "prediction_sampler = SequentialSampler(prediction_data)\n",
                "prediction_dataloader = DataLoader(prediction_data, sampler=prediction_sampler, batch_size=batch_size)"
            ],
            "execution_count": 22,
            "outputs": [
                {
                    "output_type": "stream",
                    "text": [
                        "Number of test sentences: 10\n",
                        "\n"
                    ],
                    "name": "stdout"
                }
            ]
        },
        {
            "cell_type": "code",
            "metadata": {
                "id": "OzWht5DiO_K7",
                "colab": {
                    "base_uri": "https://localhost:8080/"
                },
                "outputId": "33a487db-2f9e-40f1-8d0e-9e1ee77b80c0"
            },
            "source": [
                "# სატესტო სიმრავლეზე გავაკეთოთ წინასწარმეტყველება\n",
                "\n",
                "print('Predicting labels for {:,} test sentences...'.format(len(input_ids)))\n",
                "\n",
                "# evaluation რეჟიმი\n",
                "model.eval()\n",
                "\n",
                "\n",
                "predictions , true_labels = [], []\n",
                "\n",
                "# წინასწასწარმეტყველება batch-ებზე\n",
                "for batch in prediction_dataloader:\n",
                "  # GPU-ში ჩავსვათ batch-ი\n",
                "  batch = tuple(t.to(device) for t in batch)\n",
                "  \n",
                "  # ამოვიღოთ მონაცემები batch-დან\n",
                "  b_input_ids, b_input_mask, b_labels = batch\n",
                "  \n",
                "  # არ დავითვალოთ გრადიენტი რადგან სწავლება არ მიმდინარეობს (ოპტიმიზაცია)\n",
                "  with torch.no_grad():\n",
                "      # გამოვითვალოთ logit-ები\n",
                "      # https://huggingface.co/transformers/model_doc/bert.html#bertforsequenceclassification\n",
                "      outputs = model(b_input_ids, token_type_ids=None, \n",
                "                      attention_mask=b_input_mask)\n",
                "  \n",
                "\n",
                "  logits = outputs[0]\n",
                "\n",
                "  # გადავიტანოთ logit-ები და labelები CPU-ში\n",
                "  logits = logits.detach().cpu().numpy()\n",
                "  label_ids = b_labels.to('cpu').numpy()\n",
                "  \n",
                "  # დავიმახსოვროთ logit-ები და სწორი კლასები\n",
                "  predictions.append(logits)\n",
                "  true_labels.append(label_ids)\n",
                "\n",
                "# ამაზე მოქმედებს softmax, ანუ ორი რიცხვიდან უდიდესის ინდექსს ირჩევს კლასად!\n",
                "print(predictions)\n",
                "\n",
                "# ჭეშმარიტი კლასები\n",
                "print(true_labels)\n",
                "\n",
                "print('    DONE.')"
            ],
            "execution_count": 23,
            "outputs": [
                {
                    "output_type": "stream",
                    "text": [
                        "Predicting labels for 10 test sentences...\n",
                        "[array([[ 1.6946076 , -0.49069646],\n",
                        "       [-1.2743264 ,  0.82877487],\n",
                        "       [ 1.6119387 , -0.5335723 ],\n",
                        "       [ 1.6337658 , -0.44320732],\n",
                        "       [-1.5003256 ,  0.7881857 ],\n",
                        "       [-1.2391199 ,  0.844327  ],\n",
                        "       [-1.6266164 ,  0.8014195 ],\n",
                        "       [-1.4774475 ,  0.85173786],\n",
                        "       [-0.47617307,  0.49652043],\n",
                        "       [-1.4290835 ,  0.78093994]], dtype=float32)]\n",
                        "[array([0, 0, 0, 0, 0, 1, 1, 1, 1, 1])]\n",
                        "    DONE.\n"
                    ],
                    "name": "stdout"
                }
            ]
        },
        {
            "cell_type": "code",
            "metadata": {
                "id": "gvCwMejkQzWZ",
                "colab": {
                    "base_uri": "https://localhost:8080/"
                },
                "outputId": "9c2c93e0-543e-46bb-ae7b-5fed9a99f011"
            },
            "source": [
                "\n",
                "pred_labels = []\n",
                "\n",
                "\n",
                "# For each input batch...\n",
                "for i in range(len(true_labels)):\n",
                "  \n",
                "  # predictions არის წყვილების მასივი (numpy-ს ndarray), სადაც წყვილის პირველი\n",
                "  # რიცხვი გვინიშნებს თუ რა ალბათობით არის პირველი კლასის შესაბამისი ეს წინადადება,\n",
                "  # მეორე კი მეორე კლასზე. ეს ორი მნიშვნელობა შემდეგ შედის softmax-ში, და softmax\n",
                "  # წყვეტს თუ ამ ორიდან რომელის ინდექსი შეესაბამება წინადადების კლასს (ორი რიცხვის\n",
                "  # მაქსიმუმის ინდექსი). ავიღოთ ეს მაქსიმუმები\n",
                "  pred_labels.append(np.argmax(predictions[i], axis=1).flatten())\n",
                "\n",
                "# წინასწარმეტყველებების მასივი (გავაბრტყელოთ)\n",
                "pred_labels = np.concatenate(pred_labels).ravel().tolist()\n",
                "\n",
                "# სწორი პასუხები (გავაბრტყელოთ)\n",
                "true_labels = np.concatenate(true_labels).ravel().tolist()\n",
                "\n",
                "\n",
                "print(pred_labels)\n",
                "print(true_labels)\n",
                "\n",
                "error_sum = 0\n",
                "\n",
                "# ავჯამოთ შეცდომები\n",
                "for i in range(len(pred_labels)):\n",
                "  error_sum += abs(pred_labels[i] - true_labels[i])\n",
                "  \n",
                "# პროცენტი გამოვთვალოთ\n",
                "error_sum /= len(pred_labels)\n",
                "\n",
                "accuracy = 1 - error_sum\n",
                "accuracy *= 100;\n",
                "\n",
                "print(\"Accuracy on test set is %.3f%%\" %accuracy)\n"
            ],
            "execution_count": 24,
            "outputs": [
                {
                    "output_type": "stream",
                    "text": [
                        "[0, 1, 0, 0, 1, 1, 1, 1, 1, 1]\n",
                        "[0, 0, 0, 0, 0, 1, 1, 1, 1, 1]\n",
                        "Accuracy on test set is 80.000%\n"
                    ],
                    "name": "stdout"
                }
            ]
        },
        {
            "cell_type": "code",
            "metadata": {
                "id": "sg-As9dktAXx",
                "colab": {
                    "base_uri": "https://localhost:8080/",
                    "height": 52
                },
                "outputId": "279f137c-f441-459b-f5e9-f124b3b42028"
            },
            "source": [
                "import os\n",
                "\n",
                "output_dir = './model_save/'\n",
                "\n",
                "# თუ არ არსებობს ეს დირექტორია, შექმენი\n",
                "if not os.path.exists(output_dir):\n",
                "    os.makedirs(output_dir)\n",
                "\n",
                "print(\"Saving model to %s\" % output_dir)\n",
                "\n",
                "# შევინახოთ დასწავლილი მოდელი, კონფიგურაცია და ტოკენაიზერი `save_pretrained()`-ით\n",
                "# შემდგომ მათი ჩატვირთვა შეიძლება `from_pretrained()`-ის გამოყენებით\n",
                "\n",
                "# model_to_save = model.module if hasattr(model, 'module') else model  # Take care of distributed/parallel training\n",
                "model_to_save = model\n",
                "model_to_save.save_pretrained(output_dir)\n",
                "tokenizer.save_pretrained(output_dir)\n",
                "\n",
                "# დავზიპოთ შენახული მოდელი\n",
                "import shutil\n",
                "zipped_folder = './model_zipped/'\n",
                "if not os.path.exists(zipped_folder):\n",
                "    os.makedirs(zipped_folder)\n",
                "    \n",
                "shutil.make_archive(zipped_folder, 'zip',output_dir)"
            ],
            "execution_count": 25,
            "outputs": [
                {
                    "output_type": "stream",
                    "text": [
                        "Saving model to ./model_save/\n"
                    ],
                    "name": "stdout"
                },
                {
                    "output_type": "execute_result",
                    "data": {
                        "application/vnd.google.colaboratory.intrinsic+json": {
                            "type": "string"
                        },
                        "text/plain": [
                            "'/content/model_zipped.zip'"
                        ]
                    },
                    "metadata": {
                        "tags": []
                    },
                    "execution_count": 25
                }
            ]
        }
    ]
}
